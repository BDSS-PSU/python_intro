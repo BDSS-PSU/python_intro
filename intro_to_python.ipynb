{
 "cells": [
  {
   "cell_type": "markdown",
   "metadata": {},
   "source": [
    "# Python Resources\n",
    "\n",
    "\n",
    "## Resources\n",
    "\n",
    "### Software\n",
    "* [Anaconda distribution](https://www.continuum.io/downloads): Has most of the modules you need for scientific work preinstalled\n",
    "\n",
    "### Tutorials - Forums\n",
    "* [Learn Python the Hard Way](http://learnpythonthehardway.org/book/): Really good tutorial to learn python from scratch\n",
    "* [Learnpython.org](www.learnpython.org): More interactive\n",
    "* [Stack Overflow](http://stackoverflow.com/questions/tagged/python)\n",
    "* The best way to learn it is to get the basics from a tutorial and then have a little project and force yourself to do it in python\n",
    "\n",
    "### Standard Modules for Data Analysis\n",
    "* [Numpy](http://www.numpy.org/): Basic requirement for scientific stuff\n",
    "* [Pandas](http://pandas.pydata.org/): R - like data frames and data analysis / management\n",
    "* [Scikit-learn](http://scikit-learn.org/stable/): Machine learning / statistics\n",
    "* [Matplot-lib](http://matplotlib.org/): For plotting\n",
    "\n",
    "### Interactive Use\n",
    "* [Ipython Notebook](http://ipython.org/notebook.html) (included in Anaconda distribution)\n",
    "* [Spyder](https://pythonhosted.org/spyder/) (Included in Anaconda)"
   ]
  },
  {
   "cell_type": "markdown",
   "metadata": {},
   "source": [
    "## Basics"
   ]
  },
  {
   "cell_type": "code",
   "execution_count": null,
   "metadata": {
    "collapsed": false
   },
   "outputs": [],
   "source": [
    "number = 5\n",
    "string = 'Hello I am a string'\n",
    "LIST = [1, 2, 3, 5]\n",
    "dictionary = {'Apples': 10, 'Oranges': 5}\n",
    "integer = int(5)\n",
    "FLOAT = float(5)\n",
    "\n",
    "print LIST[0]\n",
    "print dictionary['Apples']\n",
    "\n",
    "for item in LIST:\n",
    "    print item"
   ]
  },
  {
   "cell_type": "markdown",
   "metadata": {},
   "source": [
    "#### Exercise - Basic Usage\n",
    "\n",
    "**Commandline**\n",
    "* Clone this reporsitory: https://github.com/BDSS-PSU/python_intro.git\n",
    "* Open the file hello_world.py a text editor of your choice\n",
    "* Write the following code in it:"
   ]
  },
  {
   "cell_type": "code",
   "execution_count": null,
   "metadata": {
    "collapsed": false,
    "scrolled": false
   },
   "outputs": [],
   "source": [
    "print 'Hello World'\n",
    "a = 5\n",
    "b = {'Apples': 10, 'Oranges': 20}\n",
    "print a\n",
    "print b['Oranges']"
   ]
  },
  {
   "cell_type": "markdown",
   "metadata": {},
   "source": [
    "* Open your terminal (mac/linux) / PowerShell (windows)\n",
    "* Navigate to into the repository that you cloned\n",
    "* type `python hello_world.py` into the prompt and hit enter\n",
    "\n",
    "**Interactive**\n",
    "* On the commandline, navigate into your repository\n",
    "* type `ipython notebook`\n",
    "* profit"
   ]
  },
  {
   "cell_type": "markdown",
   "metadata": {},
   "source": [
    "## Modules"
   ]
  },
  {
   "cell_type": "code",
   "execution_count": null,
   "metadata": {
    "collapsed": true
   },
   "outputs": [],
   "source": [
    "# Installed Modules\n",
    "import os\n",
    "import numpy as np\n",
    "from pandas import DataFrame\n",
    "\n",
    "# Your own modules / scripts\n",
    "import myscript"
   ]
  },
  {
   "cell_type": "code",
   "execution_count": null,
   "metadata": {
    "collapsed": false
   },
   "outputs": [],
   "source": [
    "print os.path\n",
    "print myscript.hello_world(5)"
   ]
  },
  {
   "cell_type": "markdown",
   "metadata": {},
   "source": [
    "If you want to install a package that is not contained in your distribution you should use a package manager. Anaconda has its own manager [`conda`](http://conda.pydata.org/docs/using/pkgs.html) and there is [`pip`](https://pypi.python.org/pypi/pip). In my experience `pip` works better."
   ]
  },
  {
   "cell_type": "markdown",
   "metadata": {},
   "source": [
    "#### Exercise \n",
    "\n",
    "* Go to your terminal\n",
    "* type `pip install gensim`\n",
    "* Check if it worked:\n",
    "* In the command line type `python`\n",
    "* At the python prompt type `import gensim` and see if you get errors"
   ]
  },
  {
   "cell_type": "markdown",
   "metadata": {},
   "source": [
    "### Object Structure"
   ]
  },
  {
   "cell_type": "markdown",
   "metadata": {},
   "source": [
    "Each object has a `class` and most objects contain stuff. You can use the `.` to get stuff that is stored in objects."
   ]
  },
  {
   "cell_type": "code",
   "execution_count": null,
   "metadata": {
    "collapsed": true
   },
   "outputs": [],
   "source": [
    "class my_class():\n",
    "    ''' \n",
    "    An example class\n",
    "    '''\n",
    "    \n",
    "    variable_a = 1\n",
    "    variable_b = 2\n",
    "    \n",
    "    def my_sum(self):\n",
    "        '''\n",
    "        Calculates the sum of two variables\n",
    "        '''\n",
    "        \n",
    "        return self.variable_a + self.variable_b \n",
    "    \n",
    "    def useless_print_function(self, string):\n",
    "        '''\n",
    "        Prints each character of a string in a new line. Don't ask me why\n",
    "        '''\n",
    "        \n",
    "        for character in string:\n",
    "            print character"
   ]
  },
  {
   "cell_type": "code",
   "execution_count": null,
   "metadata": {
    "collapsed": true
   },
   "outputs": [],
   "source": [
    "example = my_class()"
   ]
  },
  {
   "cell_type": "code",
   "execution_count": null,
   "metadata": {
    "collapsed": false
   },
   "outputs": [],
   "source": [
    "print 'example Contains the following stuff:'\n",
    "print dir(example)\n",
    "print example.__doc__\n",
    "print example.my_sum\n",
    "print example.my_sum.__doc__"
   ]
  },
  {
   "cell_type": "code",
   "execution_count": null,
   "metadata": {
    "collapsed": false
   },
   "outputs": [],
   "source": [
    "example.useless_print_function(\"Please Don't split me\")"
   ]
  },
  {
   "cell_type": "markdown",
   "metadata": {},
   "source": [
    "## A little example project\n",
    "\n",
    "Let's see if Obama or Trump is more egocentric. Let's count how often they say \"I\" in two of their speeches. "
   ]
  },
  {
   "cell_type": "code",
   "execution_count": null,
   "metadata": {
    "collapsed": false
   },
   "outputs": [],
   "source": [
    "import io\n",
    "import re\n",
    "from pprint import pprint\n",
    "\n",
    "# Where are the speeches stored?\n",
    "trump_file_name = 'trump.txt'\n",
    "obama_file_name = 'obama.txt'\n",
    "\n",
    "# Open connections to the files\n",
    "trump_file = io.open(trump_file_name, 'r', encoding='utf-8')\n",
    "obama_file = io.open(obama_file_name, 'r', encoding='utf-8')\n",
    "\n",
    "\n",
    "# Define the function that does what we want to do\n",
    "def count_words(file_connection):\n",
    "    '''\n",
    "    Count all words in a file and return dictionary\n",
    "    '''\n",
    "\n",
    "    # Empty dictionary to hold the results\n",
    "    out_dict = {}\n",
    "    # First entry: Total words counts\n",
    "    out_dict['total_words'] = 0\n",
    "    \n",
    "    # Loop through the lines in the input file\n",
    "    for line in file_connection:\n",
    "\n",
    "        # Remove everything that is not a letter (if you want to know more look up 'regular expressions')\n",
    "        clean_line = re.sub('[^A-Za-z]', ' ', line)\n",
    "        \n",
    "        # Split the line into single words\n",
    "        words = clean_line.split()\n",
    "\n",
    "        # Actually count the words: \n",
    "        for word in words:\n",
    "            \n",
    "            out_dict['total_words'] += 1\n",
    "            \n",
    "            # if we enounter the word for the first time, we create a new entry in the dictionary\n",
    "            if word not in out_dict.keys():\n",
    "                out_dict[word] = 1\n",
    "                \n",
    "            # If not, we increment the word count by one\n",
    "            else:\n",
    "                out_dict[word] += 1\n",
    "            \n",
    "    return out_dict\n",
    "\n",
    "obama_dictionary = count_words(obama_file)\n",
    "trump_dictionary = count_words(trump_file)\n",
    "\n",
    "trump_file.close()\n",
    "obama_file.close()"
   ]
  },
  {
   "cell_type": "code",
   "execution_count": null,
   "metadata": {
    "collapsed": false
   },
   "outputs": [],
   "source": [
    "pprint(obama_dictionary)"
   ]
  },
  {
   "cell_type": "code",
   "execution_count": null,
   "metadata": {
    "collapsed": false
   },
   "outputs": [],
   "source": [
    "pprint(trump_dictionary)"
   ]
  },
  {
   "cell_type": "code",
   "execution_count": null,
   "metadata": {
    "collapsed": false
   },
   "outputs": [],
   "source": [
    "obama_measure = float(obama_dictionary['I']) / float(obama_dictionary['total_words'])\n",
    "trump_measure = float(trump_dictionary['I']) / float(trump_dictionary['total_words'])\n",
    "\n",
    "print 'Obama said \"I\" {0} times in a speech {1} words long. That is: {2} per word'.format(obama_dictionary['I'], obama_dictionary['total_words'], round(obama_measure, 3))\n",
    "print 'Trump said \"I\" {0} times in a speech {1} words long. That is: {2} per word'.format(trump_dictionary['I'], trump_dictionary['total_words'], round(trump_measure, 3))"
   ]
  }
 ],
 "metadata": {
  "kernelspec": {
   "display_name": "Python 2",
   "language": "python",
   "name": "python2"
  },
  "language_info": {
   "codemirror_mode": {
    "name": "ipython",
    "version": 2
   },
   "file_extension": ".py",
   "mimetype": "text/x-python",
   "name": "python",
   "nbconvert_exporter": "python",
   "pygments_lexer": "ipython2",
   "version": "2.7.10"
  }
 },
 "nbformat": 4,
 "nbformat_minor": 0
}
